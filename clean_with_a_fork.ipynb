{
 "cells": [
  {
   "cell_type": "code",
   "execution_count": 3,
   "metadata": {},
   "outputs": [],
   "source": [
    "import pandas as pd\n",
    "import re\n",
    "\n"
   ]
  },
  {
   "cell_type": "code",
   "execution_count": 30,
   "metadata": {},
   "outputs": [
    {
     "data": {
      "text/html": [
       "<div>\n",
       "<style scoped>\n",
       "    .dataframe tbody tr th:only-of-type {\n",
       "        vertical-align: middle;\n",
       "    }\n",
       "\n",
       "    .dataframe tbody tr th {\n",
       "        vertical-align: top;\n",
       "    }\n",
       "\n",
       "    .dataframe thead th {\n",
       "        text-align: right;\n",
       "    }\n",
       "</style>\n",
       "<table border=\"1\" class=\"dataframe\">\n",
       "  <thead>\n",
       "    <tr style=\"text-align: right;\">\n",
       "      <th></th>\n",
       "      <th>Номер</th>\n",
       "      <th>Article Title</th>\n",
       "      <th>Source</th>\n",
       "      <th>Words</th>\n",
       "      <th>Persistent URL</th>\n",
       "    </tr>\n",
       "  </thead>\n",
       "  <tbody>\n",
       "    <tr>\n",
       "      <th>0</th>\n",
       "      <td>1</td>\n",
       "      <td>9 января</td>\n",
       "      <td>Sankt-Peterburgskie vedomosti, No.1, January 0...</td>\n",
       "      <td>104</td>\n",
       "      <td>https://dlib.eastview.com/browse/doc/56846020</td>\n",
       "    </tr>\n",
       "    <tr>\n",
       "      <th>1</th>\n",
       "      <td>1</td>\n",
       "      <td>В Пьяной гавани жить</td>\n",
       "      <td>Sankt-Peterburgskie vedomosti, No.1, January 0...</td>\n",
       "      <td>426</td>\n",
       "      <td>https://dlib.eastview.com/browse/doc/56846019</td>\n",
       "    </tr>\n",
       "    <tr>\n",
       "      <th>2</th>\n",
       "      <td>1</td>\n",
       "      <td>Крушение \"Боинга\" в Иране</td>\n",
       "      <td>Sankt-Peterburgskie vedomosti, No.1, January 0...</td>\n",
       "      <td>184</td>\n",
       "      <td>https://dlib.eastview.com/browse/doc/56846013</td>\n",
       "    </tr>\n",
       "    <tr>\n",
       "      <th>3</th>\n",
       "      <td>1</td>\n",
       "      <td>Ленинградская область. Оборот промпредприятий</td>\n",
       "      <td>Sankt-Peterburgskie vedomosti, No.1, January 0...</td>\n",
       "      <td>133</td>\n",
       "      <td>https://dlib.eastview.com/browse/doc/56846016</td>\n",
       "    </tr>\n",
       "    <tr>\n",
       "      <th>4</th>\n",
       "      <td>1</td>\n",
       "      <td>Миллиарды на здоровье</td>\n",
       "      <td>Sankt-Peterburgskie vedomosti, No.1, January 0...</td>\n",
       "      <td>94</td>\n",
       "      <td>https://dlib.eastview.com/browse/doc/56846014</td>\n",
       "    </tr>\n",
       "  </tbody>\n",
       "</table>\n",
       "</div>"
      ],
      "text/plain": [
       "   Номер                                  Article Title  \\\n",
       "0      1                                       9 января   \n",
       "1      1                           В Пьяной гавани жить   \n",
       "2      1                      Крушение \"Боинга\" в Иране   \n",
       "3      1  Ленинградская область. Оборот промпредприятий   \n",
       "4      1                          Миллиарды на здоровье   \n",
       "\n",
       "                                              Source  Words  \\\n",
       "0  Sankt-Peterburgskie vedomosti, No.1, January 0...    104   \n",
       "1  Sankt-Peterburgskie vedomosti, No.1, January 0...    426   \n",
       "2  Sankt-Peterburgskie vedomosti, No.1, January 0...    184   \n",
       "3  Sankt-Peterburgskie vedomosti, No.1, January 0...    133   \n",
       "4  Sankt-Peterburgskie vedomosti, No.1, January 0...     94   \n",
       "\n",
       "                                  Persistent URL  \n",
       "0  https://dlib.eastview.com/browse/doc/56846020  \n",
       "1  https://dlib.eastview.com/browse/doc/56846019  \n",
       "2  https://dlib.eastview.com/browse/doc/56846013  \n",
       "3  https://dlib.eastview.com/browse/doc/56846016  \n",
       "4  https://dlib.eastview.com/browse/doc/56846014  "
      ]
     },
     "execution_count": 30,
     "metadata": {},
     "output_type": "execute_result"
    }
   ],
   "source": [
    "df = pd.read_csv('xin.csv')\n",
    "df.head()"
   ]
  },
  {
   "cell_type": "code",
   "execution_count": 83,
   "metadata": {},
   "outputs": [
    {
     "name": "stderr",
     "output_type": "stream",
     "text": [
      "/home/tinker/.local/lib/python3.8/site-packages/pandas/core/strings.py:2001: UserWarning: This pattern has match groups. To actually get the groups, use str.extract.\n",
      "  return func(self, *args, **kwargs)\n"
     ]
    }
   ],
   "source": [
    "month = r'^\\d{1,2} (января|февраля|марта|апреля|мая|ию[нл]я|августа|сентября|октября|ноября|декабря)$'\n",
    "short = r'^([кК]оротко|[Хх]роника|[Ээ]врика!|[Оо]ткровизмы)'\n",
    "\n",
    "df  = df[(df['Article Title'].str.contains(month, case=False, na=False) | \\\n",
    "        df['Article Title'].str.contains(short, case=False, na=False)) == False]"
   ]
  },
  {
   "cell_type": "code",
   "execution_count": 84,
   "metadata": {},
   "outputs": [],
   "source": [
    "df.to_csv('new_xin.csv')"
   ]
  },
  {
   "cell_type": "code",
   "execution_count": null,
   "metadata": {},
   "outputs": [],
   "source": []
  }
 ],
 "metadata": {
  "kernelspec": {
   "display_name": "Python 3",
   "language": "python",
   "name": "python3"
  },
  "language_info": {
   "codemirror_mode": {
    "name": "ipython",
    "version": 3
   },
   "file_extension": ".py",
   "mimetype": "text/x-python",
   "name": "python",
   "nbconvert_exporter": "python",
   "pygments_lexer": "ipython3",
   "version": "3.8.5"
  }
 },
 "nbformat": 4,
 "nbformat_minor": 4
}
